{
  "nbformat": 4,
  "nbformat_minor": 0,
  "metadata": {
    "colab": {
      "provenance": [],
      "authorship_tag": "ABX9TyN8JMrabvrnX0xdnNexaCRA",
      "include_colab_link": true
    },
    "kernelspec": {
      "name": "python3",
      "display_name": "Python 3"
    },
    "language_info": {
      "name": "python"
    }
  },
  "cells": [
    {
      "cell_type": "markdown",
      "metadata": {
        "id": "view-in-github",
        "colab_type": "text"
      },
      "source": [
        "<a href=\"https://colab.research.google.com/github/QuantamDev/Matplotlib_practice/blob/main/Real_World_ex.ipynb\" target=\"_parent\"><img src=\"https://colab.research.google.com/assets/colab-badge.svg\" alt=\"Open In Colab\"/></a>"
      ]
    },
    {
      "cell_type": "markdown",
      "source": [
        "# Example on Real World Problem\n"
      ],
      "metadata": {
        "id": "VoIAkqWdpNqr"
      }
    },
    {
      "cell_type": "code",
      "source": [
        "import pandas as pd\n",
        "import numpy as np\n",
        "import matplotlib.pyplot as plt"
      ],
      "metadata": {
        "id": "hgaNcD_yWR1q"
      },
      "execution_count": 3,
      "outputs": []
    },
    {
      "cell_type": "markdown",
      "source": [
        "# Line Graph\n"
      ],
      "metadata": {
        "id": "wrFxiJ5epqF0"
      }
    },
    {
      "cell_type": "code",
      "source": [
        "pop=pd.read_csv('gas_prices.csv')\n"
      ],
      "metadata": {
        "colab": {
          "base_uri": "https://localhost:8080/"
        },
        "id": "NbSKuBsrupv0",
        "outputId": "cdb275df-7fc6-4a2b-8ef6-c38204eb559f"
      },
      "execution_count": 27,
      "outputs": [
        {
          "output_type": "stream",
          "name": "stdout",
          "text": [
            "    Year  Australia  Canada  France  Germany  Italy  Japan  Mexico  \\\n",
            "0   1990        NaN    1.87    3.63     2.65   4.59   3.16    1.00   \n",
            "1   1991       1.96    1.92    3.45     2.90   4.50   3.46    1.30   \n",
            "2   1992       1.89    1.73    3.56     3.27   4.53   3.58    1.50   \n",
            "3   1993       1.73    1.57    3.41     3.07   3.68   4.16    1.56   \n",
            "4   1994       1.84    1.45    3.59     3.52   3.70   4.36    1.48   \n",
            "5   1995       1.95    1.53    4.26     3.96   4.00   4.43    1.11   \n",
            "6   1996       2.12    1.61    4.41     3.94   4.39   3.64    1.25   \n",
            "7   1997       2.05    1.62    4.00     3.53   4.07   3.26    1.47   \n",
            "8   1998       1.63    1.38    3.87     3.34   3.84   2.82    1.49   \n",
            "9   1999       1.72    1.52    3.85     3.42   3.87   3.27    1.79   \n",
            "10  2000       1.94    1.86    3.80     3.45   3.77   3.65    2.01   \n",
            "11  2001       1.71    1.72    3.51     3.40   3.57   3.27    2.20   \n",
            "12  2002       1.76    1.69    3.62     3.67   3.74   3.15    2.24   \n",
            "13  2003       2.19    1.99    4.35     4.59   4.53   3.47    2.04   \n",
            "14  2004       2.72    2.37    4.99     5.24   5.29   3.93    2.03   \n",
            "15  2005       3.23    2.89    5.46     5.66   5.74   4.28    2.22   \n",
            "16  2006       3.54    3.26    5.88     6.03   6.10   4.47    2.31   \n",
            "17  2007       3.85    3.59    6.60     6.88   6.73   4.49    2.40   \n",
            "18  2008       4.45    4.08    7.51     7.75   7.63   5.74    2.45   \n",
            "\n",
            "    South Korea    UK   USA  \n",
            "0          2.05  2.82  1.16  \n",
            "1          2.49  3.01  1.14  \n",
            "2          2.65  3.06  1.13  \n",
            "3          2.88  2.84  1.11  \n",
            "4          2.87  2.99  1.11  \n",
            "5          2.94  3.21  1.15  \n",
            "6          3.18  3.34  1.23  \n",
            "7          3.34  3.83  1.23  \n",
            "8          3.04  4.06  1.06  \n",
            "9          3.80  4.29  1.17  \n",
            "10         4.18  4.58  1.51  \n",
            "11         3.76  4.13  1.46  \n",
            "12         3.84  4.16  1.36  \n",
            "13         4.11  4.70  1.59  \n",
            "14         4.51  5.56  1.88  \n",
            "15         5.28  5.97  2.30  \n",
            "16         5.92  6.36  2.59  \n",
            "17         6.21  7.13  2.80  \n",
            "18         5.83  7.42  3.27  \n"
          ]
        }
      ]
    },
    {
      "cell_type": "code",
      "source": [],
      "metadata": {
        "id": "ek_VjePIxB6D"
      },
      "execution_count": null,
      "outputs": []
    }
  ]
}